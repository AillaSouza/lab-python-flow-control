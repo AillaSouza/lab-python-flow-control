{
 "cells": [
  {
   "cell_type": "markdown",
   "id": "d3bfc191-8885-42ee-b0a0-bbab867c6f9f",
   "metadata": {
    "tags": []
   },
   "source": [
    "# Lab | Flow Control"
   ]
  },
  {
   "cell_type": "markdown",
   "id": "3851fcd1-cf98-4653-9c89-e003b7ec9400",
   "metadata": {},
   "source": [
    "## Exercise: Managing Customer Orders Optimized\n",
    "\n",
    "In the last lab, you were starting an online store that sells various products. To ensure smooth operations, you developed a program that manages customer orders and inventory.\n",
    "\n",
    "You did so without using flow control. Let's go a step further and improve this code.\n",
    "\n",
    "Follow the steps below to complete the exercise:\n",
    "\n",
    "1. Look at your code from the lab data structures, and improve repeated code with loops.\n",
    "\n",
    "2. Instead of asking the user to input the name of three products that a customer wants to order, do the following:\n",
    "    \n",
    "    a. Prompt the user to enter the name of a product that a customer wants to order.\n",
    "    \n",
    "    b. Add the product name to the \"customer_orders\" set.\n",
    "    \n",
    "    c. Ask the user if they want to add another product (yes/no).\n",
    "    \n",
    "    d. Continue the loop until the user does not want to add another product.\n",
    "\n",
    "3. Instead of updating the inventory by subtracting 1 from the quantity of each product, only do it for  the products that were ordered (those in \"customer_orders\")."
   ]
  },
  {
   "cell_type": "code",
   "execution_count": 3,
   "id": "12e592bc",
   "metadata": {},
   "outputs": [],
   "source": [
    "products = ['t-shirt', 'mug', 'hat', 'book', 'keychain']\n",
    "inventory = {}"
   ]
  },
  {
   "cell_type": "code",
   "execution_count": 9,
   "id": "8075c263",
   "metadata": {},
   "outputs": [
    {
     "name": "stdout",
     "output_type": "stream",
     "text": [
      "Enter the quantity available in the inventory of t-shirt:10\n",
      "Enter the quantity available in the inventory of mug:10\n",
      "Enter the quantity available in the inventory of hat:10\n",
      "Enter the quantity available in the inventory of book:10\n",
      "Enter the quantity available in the inventory of keychain:10\n",
      "Inventory: {'t-shirt': 10, 'mug': 10, 'hat': 10, 'book': 10, 'keychain': 10}\n"
     ]
    }
   ],
   "source": [
    "for product in products:\n",
    "    quantity = int(input(f'Enter the quantity available in the inventory of {product}:'))\n",
    "    inventory[product]= quantity\n",
    "print('Inventory:', inventory)"
   ]
  },
  {
   "cell_type": "code",
   "execution_count": 5,
   "id": "02f5befa",
   "metadata": {},
   "outputs": [],
   "source": [
    "customer_orders = set()"
   ]
  },
  {
   "cell_type": "code",
   "execution_count": 11,
   "id": "521b9fd0",
   "metadata": {},
   "outputs": [
    {
     "name": "stdout",
     "output_type": "stream",
     "text": [
      "Enter order:mug\n",
      "mug has been added to your order.\n",
      "Do you want to order more? (yes/no): yes\n",
      "Enter order:hat\n",
      "hat has been added to your order.\n",
      "Do you want to order more? (yes/no): no\n",
      "Thanks for your order!\n"
     ]
    }
   ],
   "source": [
    "ordering = True\n",
    "while ordering:\n",
    "    \n",
    "    order = input(f\"Enter order:\")\n",
    "    if inventory.get(order) is not None and inventory[order] > 0:\n",
    "        inventory[order] -= 1\n",
    "        customer_orders.add(order)\n",
    "        print(f'{order} has been added to your order.')\n",
    "    else:\n",
    "        print(f\"{order} not in stock\")\n",
    "    \n",
    "    answer = ''\n",
    "    while answer != \"no\" and answer != \"yes\":\n",
    "        answer = input(\"Do you want to order more? (yes/no): \")\n",
    "        if answer == \"no\":\n",
    "            print('Thanks for your order!')\n",
    "            ordering = False"
   ]
  },
  {
   "cell_type": "code",
   "execution_count": 12,
   "id": "c118996e",
   "metadata": {},
   "outputs": [
    {
     "data": {
      "text/plain": [
       "{'t-shirt': 10, 'mug': 9, 'hat': 9, 'book': 10, 'keychain': 10}"
      ]
     },
     "execution_count": 12,
     "metadata": {},
     "output_type": "execute_result"
    }
   ],
   "source": [
    "inventory"
   ]
  },
  {
   "cell_type": "code",
   "execution_count": null,
   "id": "7b431992",
   "metadata": {},
   "outputs": [],
   "source": []
  }
 ],
 "metadata": {
  "kernelspec": {
   "display_name": "Python 3 (ipykernel)",
   "language": "python",
   "name": "python3"
  },
  "language_info": {
   "codemirror_mode": {
    "name": "ipython",
    "version": 3
   },
   "file_extension": ".py",
   "mimetype": "text/x-python",
   "name": "python",
   "nbconvert_exporter": "python",
   "pygments_lexer": "ipython3",
   "version": "3.9.7"
  }
 },
 "nbformat": 4,
 "nbformat_minor": 5
}
